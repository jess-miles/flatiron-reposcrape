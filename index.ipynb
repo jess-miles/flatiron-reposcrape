{
 "cells": [
  {
   "cell_type": "markdown",
   "metadata": {},
   "source": [
    "# Summary\n",
    "\n",
    "This notebook loops through the 5 phases in the Flatiron Curriculum and pulls the github links for any lessons where there is one.\n",
    "\n",
    "Note that this will only work if you have access to a curriculum."
   ]
  },
  {
   "cell_type": "code",
   "execution_count": 127,
   "metadata": {
    "ExecuteTime": {
     "end_time": "2021-08-12T21:28:09.928698Z",
     "start_time": "2021-08-12T21:28:09.790764Z"
    }
   },
   "outputs": [],
   "source": [
    "import pandas as pd\n",
    "from bs4 import BeautifulSoup\n",
    "import json\n",
    "from selenium import webdriver\n",
    "from selenium.webdriver.common.keys import Keys\n",
    "import urllib"
   ]
  },
  {
   "cell_type": "code",
   "execution_count": 131,
   "metadata": {
    "ExecuteTime": {
     "end_time": "2021-08-12T21:33:24.797352Z",
     "start_time": "2021-08-12T21:33:24.738313Z"
    }
   },
   "outputs": [],
   "source": [
    "# list of URLs representing the phase main pages\n",
    "\n",
    "phases = {\n",
    "    'phase1': 'https://learning.flatironschool.com/courses/2680',\n",
    "    'phase2': 'https://learning.flatironschool.com/courses/2681',\n",
    "    'phase3': 'https://learning.flatironschool.com/courses/2682',\n",
    "    'phase4': 'https://learning.flatironschool.com/courses/2683',\n",
    "    'phase5': 'https://learning.flatironschool.com/courses/2684',\n",
    "}\n",
    "\n",
    "lesson_root = 'https://learning.flatironschool.com'\n",
    "\n",
    "results = []"
   ]
  },
  {
   "cell_type": "markdown",
   "metadata": {},
   "source": [
    "Be sure to download the latest Chrome web driver and extract it somewhere locally.\n",
    "\n",
    "**Replace the path below with the path to the folder containing the extracted Chrome webdriver before proceeding.**"
   ]
  },
  {
   "cell_type": "code",
   "execution_count": 160,
   "metadata": {
    "ExecuteTime": {
     "end_time": "2021-08-12T22:35:39.394904Z",
     "start_time": "2021-08-12T22:35:35.157904Z"
    }
   },
   "outputs": [],
   "source": [
    "## REPLACE THE PATH WITH YOUR OWN ##\n",
    "driver_path = '/Users/jessicamiles/Downloads/chromedriver'\n",
    "\n",
    "# initiate webdriver. This should launch a Chrome window controlled by Selenium\n",
    "driver = webdriver.Chrome(driver_path)"
   ]
  },
  {
   "cell_type": "markdown",
   "metadata": {},
   "source": [
    "A Chrome window should have launched. Log in to Flatiron using your own credentials. You don't need to navigate anywhere else after that; the next cell of code will take it from there."
   ]
  },
  {
   "cell_type": "code",
   "execution_count": 132,
   "metadata": {
    "ExecuteTime": {
     "end_time": "2021-08-12T21:33:40.867711Z",
     "start_time": "2021-08-12T21:33:29.278370Z"
    }
   },
   "outputs": [],
   "source": [
    "# get Selenium window to load Flatiron Login\n",
    "# log in using your credentials\n",
    "login_url = 'https://portal.flatironschool.com'\n",
    "driver.get(login_url)"
   ]
  },
  {
   "cell_type": "code",
   "execution_count": 136,
   "metadata": {
    "ExecuteTime": {
     "end_time": "2021-08-12T22:19:00.771673Z",
     "start_time": "2021-08-12T22:01:43.672671Z"
    }
   },
   "outputs": [],
   "source": [
    "# loop through phase home pages, topics, and lessons, and get github links\n",
    "for phase in phases.keys():\n",
    "    \n",
    "    # get phase module main page\n",
    "    driver.get(phases[phase])\n",
    "    \n",
    "    # make initial soup out of the phase page\n",
    "    soup = BeautifulSoup(driver.page_source, 'html.parser')\n",
    "    \n",
    "    # get main modules div\n",
    "    mods = soup.find(id='context_modules')\n",
    "\n",
    "    # loop through each topic\n",
    "    for topic in mods.find_all(class_='context_module'):\n",
    "\n",
    "        # loop through each lesson listed in the topic\n",
    "        for lesson in topic.find_all(class_='ig-row'):\n",
    "\n",
    "            if lesson.a:\n",
    "\n",
    "                # navigate to lesson page to find if it has a repo link\n",
    "                driver.get(lesson_root + lesson.a['href'])\n",
    "                curr_url = driver.current_url\n",
    "\n",
    "                soup_sub = BeautifulSoup(driver.page_source, 'html.parser')\n",
    "\n",
    "                # try to find the image to open the GitHub repo, if exists\n",
    "                repos = soup_sub.find_all('a', class_='fis-git-link', limit=1)\n",
    "                if len(repos) > 0:\n",
    "                    repo = repos[0]['href']\n",
    "                else:\n",
    "                    repo = ''\n",
    "\n",
    "                # append lesson info to results\n",
    "                results.append({'phase': phase,\n",
    "                                'topic_name': topic['aria-label'],\n",
    "                                'lesson_title': lesson.a['aria-label'],\n",
    "                                'lesson_url': curr_url,\n",
    "                                'github_repo': repo})\n",
    "        \n",
    "        # dump results out to file after each topic, overwriting the file\n",
    "        with open('results.json', 'w') as f:\n",
    "            json.dump(results, f)\n",
    "            f.close()"
   ]
  },
  {
   "cell_type": "code",
   "execution_count": 158,
   "metadata": {
    "ExecuteTime": {
     "end_time": "2021-08-12T22:29:12.719251Z",
     "start_time": "2021-08-12T22:29:12.637415Z"
    },
    "scrolled": true
   },
   "outputs": [
    {
     "data": {
      "text/html": [
       "<div>\n",
       "<style scoped>\n",
       "    .dataframe tbody tr th:only-of-type {\n",
       "        vertical-align: middle;\n",
       "    }\n",
       "\n",
       "    .dataframe tbody tr th {\n",
       "        vertical-align: top;\n",
       "    }\n",
       "\n",
       "    .dataframe thead th {\n",
       "        text-align: right;\n",
       "    }\n",
       "</style>\n",
       "<table border=\"1\" class=\"dataframe\">\n",
       "  <thead>\n",
       "    <tr style=\"text-align: right;\">\n",
       "      <th></th>\n",
       "      <th>phase</th>\n",
       "      <th>topic_name</th>\n",
       "      <th>lesson_title</th>\n",
       "      <th>lesson_url</th>\n",
       "      <th>github_repo</th>\n",
       "    </tr>\n",
       "  </thead>\n",
       "  <tbody>\n",
       "    <tr>\n",
       "      <th>0</th>\n",
       "      <td>phase1</td>\n",
       "      <td>🏆 Online Milestones Instructions</td>\n",
       "      <td>Phase 1 Project Templates and Examples</td>\n",
       "      <td>https://learning.flatironschool.com/courses/26...</td>\n",
       "      <td></td>\n",
       "    </tr>\n",
       "    <tr>\n",
       "      <th>1</th>\n",
       "      <td>phase1</td>\n",
       "      <td>🏆 Milestones</td>\n",
       "      <td>Phase 1 Blog Post</td>\n",
       "      <td>https://learning.flatironschool.com/courses/26...</td>\n",
       "      <td></td>\n",
       "    </tr>\n",
       "    <tr>\n",
       "      <th>2</th>\n",
       "      <td>phase1</td>\n",
       "      <td>Activities &amp; Assignments</td>\n",
       "      <td>Feedback: Assigning CL Recordings Before S.G.</td>\n",
       "      <td>https://learning.flatironschool.com/courses/26...</td>\n",
       "      <td></td>\n",
       "    </tr>\n",
       "    <tr>\n",
       "      <th>3</th>\n",
       "      <td>phase1</td>\n",
       "      <td>Phase 1 - Supplemental Resources &amp; Videos</td>\n",
       "      <td>📊Choosing the Right Visualization</td>\n",
       "      <td>https://learning.flatironschool.com/courses/26...</td>\n",
       "      <td></td>\n",
       "    </tr>\n",
       "    <tr>\n",
       "      <th>4</th>\n",
       "      <td>phase1</td>\n",
       "      <td>📺Phase 1 - Campus Central Lecturer Recordings</td>\n",
       "      <td>Topic 10: Webscraping &amp; HTML/CSS</td>\n",
       "      <td>https://learning.flatironschool.com/courses/26...</td>\n",
       "      <td></td>\n",
       "    </tr>\n",
       "  </tbody>\n",
       "</table>\n",
       "</div>"
      ],
      "text/plain": [
       "    phase                                     topic_name  \\\n",
       "0  phase1               🏆 Online Milestones Instructions   \n",
       "1  phase1                                   🏆 Milestones   \n",
       "2  phase1                       Activities & Assignments   \n",
       "3  phase1      Phase 1 - Supplemental Resources & Videos   \n",
       "4  phase1  📺Phase 1 - Campus Central Lecturer Recordings   \n",
       "\n",
       "                                    lesson_title  \\\n",
       "0         Phase 1 Project Templates and Examples   \n",
       "1                              Phase 1 Blog Post   \n",
       "2  Feedback: Assigning CL Recordings Before S.G.   \n",
       "3              📊Choosing the Right Visualization   \n",
       "4               Topic 10: Webscraping & HTML/CSS   \n",
       "\n",
       "                                          lesson_url github_repo  \n",
       "0  https://learning.flatironschool.com/courses/26...              \n",
       "1  https://learning.flatironschool.com/courses/26...              \n",
       "2  https://learning.flatironschool.com/courses/26...              \n",
       "3  https://learning.flatironschool.com/courses/26...              \n",
       "4  https://learning.flatironschool.com/courses/26...              "
      ]
     },
     "execution_count": 158,
     "metadata": {},
     "output_type": "execute_result"
    }
   ],
   "source": [
    "df = pd.DataFrame(results)\n",
    "df.head()"
   ]
  },
  {
   "cell_type": "code",
   "execution_count": 157,
   "metadata": {
    "ExecuteTime": {
     "end_time": "2021-08-12T22:27:54.599362Z",
     "start_time": "2021-08-12T22:27:54.530599Z"
    }
   },
   "outputs": [],
   "source": [
    "df.to_csv('results.csv')"
   ]
  },
  {
   "cell_type": "markdown",
   "metadata": {},
   "source": [
    "# Extra\n",
    "\n",
    "I initially tried this using the requests library, but it proved too difficult to manage the authentication. I did find some neat tricks though."
   ]
  },
  {
   "cell_type": "markdown",
   "metadata": {},
   "source": [
    "Create a .json file containing YOUR Flatiron Login creds in the following format:\n",
    "\n",
    "    {\"user[email]\": \"[Your Email Username]\",\n",
    "     \"user[password]\": \"[Your Password]\"}\n",
    "\n",
    "Update the path to the file to point to that json. Be sure to use the keys as shown above.\n"
   ]
  },
  {
   "cell_type": "code",
   "execution_count": 43,
   "metadata": {
    "ExecuteTime": {
     "end_time": "2021-08-12T18:16:18.883085Z",
     "start_time": "2021-08-12T18:16:18.557899Z"
    }
   },
   "outputs": [],
   "source": [
    "f = open(os.path.expanduser('~') + '/.secret/flatiron.json')\n",
    "creds = json.load(f)"
   ]
  },
  {
   "cell_type": "code",
   "execution_count": 95,
   "metadata": {
    "ExecuteTime": {
     "end_time": "2021-08-12T20:17:55.258446Z",
     "start_time": "2021-08-12T20:17:53.281067Z"
    }
   },
   "outputs": [
    {
     "name": "stdout",
     "output_type": "stream",
     "text": [
      "<Response [200]>\n"
     ]
    }
   ],
   "source": [
    "# Create and authenticate into session\n",
    "# modified from https://stackoverflow.com/questions/50261869/python-requests-422-error-on-post\n",
    "\n",
    "login_url = 'https://portal.flatironschool.com'\n",
    "\n",
    "s = requests.Session()\n",
    "\n",
    "r = s.get(login_url)\n",
    "soup = BeautifulSoup(r.content, \"lxml\")\n",
    "\n",
    "# find other hidden fields that will be needed in addition to un and pw\n",
    "hidden = soup.find_all(\"input\", {'type':'hidden'})\n",
    "\n",
    "# get the actual target URL that will be posted to\n",
    "target = login_url + soup.find(\"form\")['action']\n",
    "\n",
    "# grab variable names and values from hidden fields\n",
    "payload = {x[\"name\"]: x[\"value\"] for x in hidden}\n",
    "\n",
    "#add login creds to the dict\n",
    "payload.update(creds)\n",
    "\n",
    "# post creds with hidden info and log in\n",
    "r = s.post(target, data=payload)\n",
    "print(r)"
   ]
  }
 ],
 "metadata": {
  "kernelspec": {
   "display_name": "learn-env2a",
   "language": "python",
   "name": "learn-env2a"
  },
  "language_info": {
   "codemirror_mode": {
    "name": "ipython",
    "version": 3
   },
   "file_extension": ".py",
   "mimetype": "text/x-python",
   "name": "python",
   "nbconvert_exporter": "python",
   "pygments_lexer": "ipython3",
   "version": "3.8.5"
  },
  "toc": {
   "base_numbering": 1,
   "nav_menu": {},
   "number_sections": true,
   "sideBar": true,
   "skip_h1_title": false,
   "title_cell": "Table of Contents",
   "title_sidebar": "Contents",
   "toc_cell": false,
   "toc_position": {},
   "toc_section_display": true,
   "toc_window_display": true
  }
 },
 "nbformat": 4,
 "nbformat_minor": 4
}
