{
 "cells": [
  {
   "cell_type": "markdown",
   "metadata": {},
   "source": [
    "# Summary\n",
    "\n",
    "This notebook loops through the 5 phases in the Flatiron Curriculum and pulls the github links for any lessons where there is one.\n",
    "\n",
    "Note that this will only work if you have access to a curriculum."
   ]
  },
  {
   "cell_type": "code",
   "execution_count": 164,
   "metadata": {
    "ExecuteTime": {
     "end_time": "2021-08-12T22:39:57.594821Z",
     "start_time": "2021-08-12T22:39:57.469512Z"
    }
   },
   "outputs": [],
   "source": [
    "import pandas as pd\n",
    "from bs4 import BeautifulSoup\n",
    "import json\n",
    "from selenium import webdriver\n",
    "from selenium.webdriver.common.keys import Keys\n",
    "import urllib"
   ]
  },
  {
   "cell_type": "code",
   "execution_count": 165,
   "metadata": {
    "ExecuteTime": {
     "end_time": "2021-08-12T22:39:57.680082Z",
     "start_time": "2021-08-12T22:39:57.605112Z"
    }
   },
   "outputs": [],
   "source": [
    "# list of URLs representing the phase main pages\n",
    "\n",
    "phases = {\n",
    "    'phase1': 'https://learning.flatironschool.com/courses/2680',\n",
    "    'phase2': 'https://learning.flatironschool.com/courses/2681',\n",
    "    'phase3': 'https://learning.flatironschool.com/courses/2682',\n",
    "    'phase4': 'https://learning.flatironschool.com/courses/2683',\n",
    "    'phase5': 'https://learning.flatironschool.com/courses/2684',\n",
    "}\n",
    "\n",
    "lesson_root = 'https://learning.flatironschool.com'\n",
    "\n",
    "results = []"
   ]
  },
  {
   "cell_type": "markdown",
   "metadata": {},
   "source": [
    "Be sure to download the latest Chrome web driver and extract it somewhere locally.\n",
    "\n",
    "**Replace the path below with the path to the folder containing the extracted Chrome webdriver before proceeding.**"
   ]
  },
  {
   "cell_type": "code",
   "execution_count": 166,
   "metadata": {
    "ExecuteTime": {
     "end_time": "2021-08-12T22:40:01.399571Z",
     "start_time": "2021-08-12T22:39:57.683724Z"
    }
   },
   "outputs": [],
   "source": [
    "## REPLACE THE PATH WITH YOUR OWN ##\n",
    "driver_path = '/Users/jessicamiles/Downloads/chromedriver'\n",
    "\n",
    "# initiate webdriver. This should launch a Chrome window controlled by Selenium\n",
    "driver = webdriver.Chrome(driver_path)"
   ]
  },
  {
   "cell_type": "markdown",
   "metadata": {},
   "source": [
    "A Chrome window should have launched. Run the code below to load the Flatiron login page, then log in on the screen using your own credentials. You don't need to navigate anywhere else after that; the next cell of code will take it from there."
   ]
  },
  {
   "cell_type": "code",
   "execution_count": 167,
   "metadata": {
    "ExecuteTime": {
     "end_time": "2021-08-12T22:40:47.886230Z",
     "start_time": "2021-08-12T22:40:45.819851Z"
    }
   },
   "outputs": [],
   "source": [
    "# get Selenium window to load Flatiron Login\n",
    "# log in using your credentials\n",
    "login_url = 'https://portal.flatironschool.com'\n",
    "driver.get(login_url)"
   ]
  },
  {
   "cell_type": "code",
   "execution_count": null,
   "metadata": {
    "ExecuteTime": {
     "end_time": "2021-08-12T22:39:34.005749Z",
     "start_time": "2021-08-12T22:39:29.934Z"
    }
   },
   "outputs": [],
   "source": [
    "# loop through phase home pages, topics, and lessons, and get github links\n",
    "for phase in phases.keys():\n",
    "    \n",
    "    # get phase module main page\n",
    "    driver.get(phases[phase])\n",
    "    \n",
    "    # make initial soup out of the phase page\n",
    "    soup = BeautifulSoup(driver.page_source, 'html.parser')\n",
    "    \n",
    "    # get main modules div\n",
    "    mods = soup.find(id='context_modules')\n",
    "\n",
    "    # loop through each topic\n",
    "    for topic in mods.find_all(class_='context_module'):\n",
    "\n",
    "        # loop through each lesson listed in the topic\n",
    "        for lesson in topic.find_all(class_='ig-row'):\n",
    "\n",
    "            if lesson.a:\n",
    "\n",
    "                # navigate to lesson page to find if it has a repo link\n",
    "                driver.get(lesson_root + lesson.a['href'])\n",
    "                curr_url = driver.current_url\n",
    "\n",
    "                soup_sub = BeautifulSoup(driver.page_source, 'html.parser')\n",
    "\n",
    "                # try to find the image to open the GitHub repo, if exists\n",
    "                repos = soup_sub.find_all('a', class_='fis-git-link', limit=1)\n",
    "                if len(repos) > 0:\n",
    "                    repo = repos[0]['href']\n",
    "                else:\n",
    "                    repo = ''\n",
    "\n",
    "                # append lesson info to results\n",
    "                results.append({'phase': phase,\n",
    "                                'topic_name': topic['aria-label'],\n",
    "                                'lesson_title': lesson.a['aria-label'],\n",
    "                                'lesson_url': curr_url,\n",
    "                                'github_repo': repo})\n",
    "        \n",
    "        # dump results out to file after each topic, overwriting the file\n",
    "        with open('results.json', 'w') as f:\n",
    "            json.dump(results, f)\n",
    "            f.close()"
   ]
  },
  {
   "cell_type": "code",
   "execution_count": null,
   "metadata": {
    "ExecuteTime": {
     "end_time": "2021-08-12T22:39:34.063253Z",
     "start_time": "2021-08-12T22:39:29.944Z"
    },
    "scrolled": true
   },
   "outputs": [],
   "source": [
    "df = pd.DataFrame(results)\n",
    "df.head()"
   ]
  },
  {
   "cell_type": "code",
   "execution_count": null,
   "metadata": {
    "ExecuteTime": {
     "end_time": "2021-08-12T22:39:34.069849Z",
     "start_time": "2021-08-12T22:39:29.952Z"
    }
   },
   "outputs": [],
   "source": [
    "df.to_csv('results.csv')"
   ]
  },
  {
   "cell_type": "markdown",
   "metadata": {},
   "source": [
    "# Extra\n",
    "\n",
    "I initially tried this using the requests library, but it proved too difficult to manage the authentication. I did find some neat tricks though."
   ]
  },
  {
   "cell_type": "markdown",
   "metadata": {},
   "source": [
    "Create a .json file containing YOUR Flatiron Login creds in the following format:\n",
    "\n",
    "    {\"user[email]\": \"[Your Email Username]\",\n",
    "     \"user[password]\": \"[Your Password]\"}\n",
    "\n",
    "Update the path to the file to point to that json. Be sure to use the keys as shown above.\n"
   ]
  },
  {
   "cell_type": "code",
   "execution_count": null,
   "metadata": {
    "ExecuteTime": {
     "end_time": "2021-08-12T22:39:34.074788Z",
     "start_time": "2021-08-12T22:39:29.958Z"
    }
   },
   "outputs": [],
   "source": [
    "f = open(os.path.expanduser('~') + '/.secret/flatiron.json')\n",
    "creds = json.load(f)"
   ]
  },
  {
   "cell_type": "code",
   "execution_count": null,
   "metadata": {
    "ExecuteTime": {
     "end_time": "2021-08-12T22:39:34.078690Z",
     "start_time": "2021-08-12T22:39:29.962Z"
    }
   },
   "outputs": [],
   "source": [
    "# Create and authenticate into session\n",
    "# modified from https://stackoverflow.com/questions/50261869/python-requests-422-error-on-post\n",
    "\n",
    "login_url = 'https://portal.flatironschool.com'\n",
    "\n",
    "s = requests.Session()\n",
    "\n",
    "r = s.get(login_url)\n",
    "soup = BeautifulSoup(r.content, \"lxml\")\n",
    "\n",
    "# find other hidden fields that will be needed in addition to un and pw\n",
    "hidden = soup.find_all(\"input\", {'type':'hidden'})\n",
    "\n",
    "# get the actual target URL that will be posted to\n",
    "target = login_url + soup.find(\"form\")['action']\n",
    "\n",
    "# grab variable names and values from hidden fields\n",
    "payload = {x[\"name\"]: x[\"value\"] for x in hidden}\n",
    "\n",
    "#add login creds to the dict\n",
    "payload.update(creds)\n",
    "\n",
    "# post creds with hidden info and log in\n",
    "r = s.post(target, data=payload)\n",
    "print(r)"
   ]
  }
 ],
 "metadata": {
  "kernelspec": {
   "display_name": "learn-env2a",
   "language": "python",
   "name": "learn-env2a"
  },
  "language_info": {
   "codemirror_mode": {
    "name": "ipython",
    "version": 3
   },
   "file_extension": ".py",
   "mimetype": "text/x-python",
   "name": "python",
   "nbconvert_exporter": "python",
   "pygments_lexer": "ipython3",
   "version": "3.8.5"
  },
  "toc": {
   "base_numbering": 1,
   "nav_menu": {},
   "number_sections": true,
   "sideBar": true,
   "skip_h1_title": false,
   "title_cell": "Table of Contents",
   "title_sidebar": "Contents",
   "toc_cell": false,
   "toc_position": {},
   "toc_section_display": true,
   "toc_window_display": true
  }
 },
 "nbformat": 4,
 "nbformat_minor": 4
}
